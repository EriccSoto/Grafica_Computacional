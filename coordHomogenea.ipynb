{
 "cells": [
  {
   "cell_type": "markdown",
   "id": "bd4f05f1",
   "metadata": {},
   "source": [
    "# Universidad Autónoma del Estado de México\n",
    "\n",
    "# Centro Universitario UAEM Zumpango\n",
    "\n",
    "## Ingeniería en Computación\n",
    "\n",
    "## GRAFICACIÓN COMPUTACIONAL\n",
    "\n",
    "**Alumno**: Eric Carmen Soto\n"
   ]
  },
  {
   "cell_type": "markdown",
   "id": "d3147c28-a58d-49a7-8f18-083989c43b84",
   "metadata": {},
   "source": [
    "# Rectas paralelas que se intersectan en el infinito por medio de coordenadas homógeneas"
   ]
  },
  {
   "cell_type": "code",
   "execution_count": 2,
   "id": "be8b1403-c465-4be2-9bbe-28d1be2035a5",
   "metadata": {},
   "outputs": [
    {
     "name": "stdout",
     "output_type": "stream",
     "text": [
      "l_AB = [-1  2 -1]\n",
      "l_CD = [ 1 -2 -3]\n",
      "E = [-8 -4  0]\n"
     ]
    }
   ],
   "source": [
    "import numpy as np\n",
    "\n",
    "# Definición de los vectores\n",
    "vector_AB = np.array([1, 1, 1])\n",
    "vector_BC = np.array([3, 2, 1])\n",
    "vector_CD = np.array([5, 1, 1])\n",
    "vector_DE = np.array([3, 0, 1])\n",
    "\n",
    "# Cálculo de los productos cruz\n",
    "l_AB = np.cross(vector_AB, vector_BC)\n",
    "l_CD = np.cross(vector_CD, vector_DE)\n",
    "E = np.cross(l_AB, l_CD)\n",
    "\n",
    "# Impresión de los resultados\n",
    "print(\"l_AB =\", l_AB)\n",
    "print(\"l_CD =\", l_CD)\n",
    "print(\"E =\", E)"
   ]
  },
  {
   "cell_type": "markdown",
   "id": "be4ee67f-e921-4743-8974-670f4c639876",
   "metadata": {},
   "source": [
    "El punto E\n",
    " es ahora un punto en el infinito, porque su coordenada homogénea es cero. En particular, es el punto infinito en la dirección (8,4) ,\n",
    " o de manera equivalente, en la dirección (2,1) .\n",
    " Este punto en el infinito es donde se cruzan las dos rectas."
   ]
  }
 ],
 "metadata": {
  "kernelspec": {
   "display_name": "Python 3",
   "language": "python",
   "name": "python3"
  },
  "language_info": {
   "codemirror_mode": {
    "name": "ipython",
    "version": 3
   },
   "file_extension": ".py",
   "mimetype": "text/x-python",
   "name": "python",
   "nbconvert_exporter": "python",
   "pygments_lexer": "ipython3",
   "version": "3.11.4"
  }
 },
 "nbformat": 4,
 "nbformat_minor": 5
}
