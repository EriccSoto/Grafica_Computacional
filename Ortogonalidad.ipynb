{
 "cells": [
  {
   "cell_type": "markdown",
   "id": "48a396c5",
   "metadata": {},
   "source": [
    "# Universidad Autónoma del Estado de México\n",
    "\n",
    "# Centro Universitario UAEM Zumpango\n",
    "\n",
    "## Ingeniería en Computación\n",
    "\n",
    "## GRAFICACIÓN COMPUTACIONAL\n",
    "\n",
    "## Ortogonalidad en Python\n",
    "\n",
    "**Alumno**: Eric Carmen Soto\n"
   ]
  },
  {
   "cell_type": "markdown",
   "id": "d3147c28-a58d-49a7-8f18-083989c43b84",
   "metadata": {},
   "source": [
    "# Rectas paralelas que se intersectan en el infinito por medio de coordenadas homógeneas"
   ]
  },
  {
   "cell_type": "code",
   "execution_count": 1,
   "id": "be8b1403-c465-4be2-9bbe-28d1be2035a5",
   "metadata": {},
   "outputs": [
    {
     "data": {
      "text/plain": [
       "40000"
      ]
     },
     "execution_count": 1,
     "metadata": {},
     "output_type": "execute_result"
    }
   ],
   "source": [
    "import numpy as np\n",
    "\n",
    "u = np.array ([20, 30, 40, 50])\n",
    "v = np.array ([100, 200, 300, 400])\n",
    "\n",
    "u @ v"
   ]
  },
  {
   "cell_type": "markdown",
   "id": "be4ee67f-e921-4743-8974-670f4c639876",
   "metadata": {},
   "source": [
    "no ortogonales con angulo menor a 90 grados"
   ]
  },
  {
   "cell_type": "code",
   "execution_count": 2,
   "id": "721811d3",
   "metadata": {},
   "outputs": [
    {
     "name": "stdout",
     "output_type": "stream",
     "text": [
      "0\n"
     ]
    }
   ],
   "source": [
    "import numpy as np\n",
    "\n",
    "# Vectores ortogonales\n",
    "u = np.array([1, 2])\n",
    "v = np.array([-2, 1])\n",
    "\n",
    "# Producto escalar\n",
    "print(u @ v)  # Resultado: 0"
   ]
  },
  {
   "cell_type": "markdown",
   "id": "237c938a",
   "metadata": {},
   "source": [
    " ortogonales con angulo de 90 grados"
   ]
  },
  {
   "cell_type": "code",
   "execution_count": 3,
   "id": "6685efbf",
   "metadata": {},
   "outputs": [
    {
     "name": "stdout",
     "output_type": "stream",
     "text": [
      "-14\n"
     ]
    }
   ],
   "source": [
    "import numpy as np\n",
    "\n",
    "# Vectores con producto escalar negativo\n",
    "u = np.array([3, 2])\n",
    "v = np.array([-4, -1])\n",
    "\n",
    "# Producto escalar\n",
    "print(u @ v)"
   ]
  },
  {
   "cell_type": "markdown",
   "id": "5ea7e1ae",
   "metadata": {},
   "source": [
    "no ortogonales con angulo mayor a 90 grados"
   ]
  },
  {
   "cell_type": "markdown",
   "id": "2f0e4dbf",
   "metadata": {},
   "source": [
    "# Caso 1: Vectores ortogonales (producto punto = 0)"
   ]
  },
  {
   "cell_type": "code",
   "execution_count": 4,
   "id": "f09a47e4",
   "metadata": {},
   "outputs": [
    {
     "name": "stdout",
     "output_type": "stream",
     "text": [
      "Caso 1: Vectores ortogonales\n",
      "Producto punto: 0\n",
      "Coseno del ángulo: 0.0\n",
      "Ángulo (grados): 90.0\n"
     ]
    }
   ],
   "source": [
    "import numpy as np\n",
    "\n",
    "# Vectores ortogonales\n",
    "u = np.array([1, 2])\n",
    "v = np.array([-2, 1])\n",
    "\n",
    "# Producto punto\n",
    "producto_punto = np.dot(u, v)\n",
    "\n",
    "# Magnitudes de los vectores\n",
    "magnitud_u = np.linalg.norm(u)\n",
    "magnitud_v = np.linalg.norm(v)\n",
    "\n",
    "# Cálculo del coseno del ángulo\n",
    "cos_theta = producto_punto / (magnitud_u * magnitud_v)\n",
    "\n",
    "# Cálculo del ángulo en grados\n",
    "angulo = np.degrees(np.arccos(cos_theta))\n",
    "\n",
    "print(\"Caso 1: Vectores ortogonales\")\n",
    "print(\"Producto punto:\", producto_punto)\n",
    "print(\"Coseno del ángulo:\", cos_theta)\n",
    "print(\"Ángulo (grados):\", angulo)\n"
   ]
  },
  {
   "cell_type": "markdown",
   "id": "96a5cd81",
   "metadata": {},
   "source": [
    "# Caso 2: Producto punto positivo (ángulo menor a 90°)"
   ]
  },
  {
   "cell_type": "code",
   "execution_count": 5,
   "id": "f8eec93e",
   "metadata": {},
   "outputs": [
    {
     "name": "stdout",
     "output_type": "stream",
     "text": [
      "Caso 2: Producto punto positivo\n",
      "Producto punto: 10\n",
      "Coseno del ángulo: 0.8944271909999159\n",
      "Ángulo (grados): 26.565051177077994\n"
     ]
    }
   ],
   "source": [
    "import numpy as np\n",
    "\n",
    "# Vectores con producto punto positivo\n",
    "u = np.array([3, 4])\n",
    "v = np.array([2, 1])\n",
    "\n",
    "# Producto punto\n",
    "producto_punto = np.dot(u, v)\n",
    "\n",
    "# Magnitudes de los vectores\n",
    "magnitud_u = np.linalg.norm(u)\n",
    "magnitud_v = np.linalg.norm(v)\n",
    "\n",
    "# Cálculo del coseno del ángulo\n",
    "cos_theta = producto_punto / (magnitud_u * magnitud_v)\n",
    "\n",
    "# Cálculo del ángulo en grados\n",
    "angulo = np.degrees(np.arccos(cos_theta))\n",
    "\n",
    "print(\"Caso 2: Producto punto positivo\")\n",
    "print(\"Producto punto:\", producto_punto)\n",
    "print(\"Coseno del ángulo:\", cos_theta)\n",
    "print(\"Ángulo (grados):\", angulo)\n"
   ]
  },
  {
   "cell_type": "markdown",
   "id": "798fb663",
   "metadata": {},
   "source": [
    "# Caso 3: Producto punto negativo (ángulo mayor a 90°)"
   ]
  },
  {
   "cell_type": "code",
   "execution_count": 6,
   "id": "633eafd4",
   "metadata": {},
   "outputs": [
    {
     "name": "stdout",
     "output_type": "stream",
     "text": [
      "Caso 3: Producto punto negativo\n",
      "Producto punto: -14\n",
      "Coseno del ángulo: -0.9417419115948376\n",
      "Ángulo (grados): 160.3461759419467\n"
     ]
    }
   ],
   "source": [
    "import numpy as np\n",
    "\n",
    "# Vectores con producto punto negativo\n",
    "u = np.array([3, 2])\n",
    "v = np.array([-4, -1])\n",
    "\n",
    "# Producto punto\n",
    "producto_punto = np.dot(u, v)\n",
    "\n",
    "# Magnitudes de los vectores\n",
    "magnitud_u = np.linalg.norm(u)\n",
    "magnitud_v = np.linalg.norm(v)\n",
    "\n",
    "# Cálculo del coseno del ángulo\n",
    "cos_theta = producto_punto / (magnitud_u * magnitud_v)\n",
    "\n",
    "# Cálculo del ángulo en grados\n",
    "angulo = np.degrees(np.arccos(cos_theta))\n",
    "\n",
    "print(\"Caso 3: Producto punto negativo\")\n",
    "print(\"Producto punto:\", producto_punto)\n",
    "print(\"Coseno del ángulo:\", cos_theta)\n",
    "print(\"Ángulo (grados):\", angulo)\n"
   ]
  }
 ],
 "metadata": {
  "kernelspec": {
   "display_name": "Python 3",
   "language": "python",
   "name": "python3"
  },
  "language_info": {
   "codemirror_mode": {
    "name": "ipython",
    "version": 3
   },
   "file_extension": ".py",
   "mimetype": "text/x-python",
   "name": "python",
   "nbconvert_exporter": "python",
   "pygments_lexer": "ipython3",
   "version": "3.11.4"
  }
 },
 "nbformat": 4,
 "nbformat_minor": 5
}
